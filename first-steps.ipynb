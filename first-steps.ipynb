{
 "cells": [
  {
   "cell_type": "code",
   "execution_count": 161,
   "metadata": {},
   "outputs": [],
   "source": [
    "import pyspark"
   ]
  },
  {
   "cell_type": "code",
   "execution_count": 162,
   "metadata": {},
   "outputs": [],
   "source": [
    "#PySpark ı import etmek ve  and pysparkı kullanabilmek icin sparksession ' u baslatma\n",
    "from pyspark.sql import SparkSession \n",
    "spark=SparkSession.builder.appName(\"DatawithPySpark\").getOrCreate()"
   ]
  },
  {
   "cell_type": "code",
   "execution_count": 163,
   "metadata": {},
   "outputs": [],
   "source": [
    "\"\"\" ŞİMDİ SPARK CALISIYOR ,VERI KONUMUNU VE DIGER DETAYLARI BELIRTEBILIRIZ: \"\"\"   \n",
    "file_location = \"./housing.csv\"\n",
    "file_type = \"csv\"\n",
    "#inferSchema seçeneğine True değeri verildiğinde, Spark, veri kümesindeki değerlerin veri \n",
    "#tiplerini otomatik olarak çıkarmaya çalışır.\n",
    "infer_schema = \"true\"\n",
    "first_row_is_header = \"true\"\n",
    "delimiter = \",\""
   ]
  },
  {
   "cell_type": "code",
   "execution_count": 164,
   "metadata": {},
   "outputs": [],
   "source": [
    "\"\"\"\n",
    "--- \n",
    "spark.read.format() yöntemi kullanılıyor. Bu yöntem, belirtilen dosya türüne göre uygun bir\n",
    "okuma biçimi sağlar (örneğin: CSV, JSON, parquet, metin dosyası vb.).\n",
    "---\n",
    "\"\"\"\n",
    "df=spark.read.format(file_type).option(\"inferSchema\",infer_schema).option(\"header\", first_row_is_header).option(\"sep\", delimiter).load(file_location)"
   ]
  },
  {
   "cell_type": "code",
   "execution_count": 165,
   "metadata": {},
   "outputs": [
    {
     "name": "stdout",
     "output_type": "stream",
     "text": [
      "+---------+--------+------------------+-----------+--------------+----------+----------+-------------+------------------+---------------+\n",
      "|longitude|latitude|housing_median_age|total_rooms|total_bedrooms|population|households|median_income|median_house_value|ocean_proximity|\n",
      "+---------+--------+------------------+-----------+--------------+----------+----------+-------------+------------------+---------------+\n",
      "|  -122.23|   37.88|              41.0|      880.0|         129.0|     322.0|     126.0|       8.3252|          452600.0|       NEAR BAY|\n",
      "|  -122.22|   37.86|              21.0|     7099.0|        1106.0|    2401.0|    1138.0|       8.3014|          358500.0|       NEAR BAY|\n",
      "|  -122.24|   37.85|              52.0|     1467.0|         190.0|     496.0|     177.0|       7.2574|          352100.0|       NEAR BAY|\n",
      "|  -122.25|   37.85|              52.0|     1274.0|         235.0|     558.0|     219.0|       5.6431|          341300.0|       NEAR BAY|\n",
      "|  -122.25|   37.85|              52.0|     1627.0|         280.0|     565.0|     259.0|       3.8462|          342200.0|       NEAR BAY|\n",
      "+---------+--------+------------------+-----------+--------------+----------+----------+-------------+------------------+---------------+\n",
      "only showing top 5 rows\n",
      "\n"
     ]
    }
   ],
   "source": [
    "\"\"\"  \n",
    "---\n",
    "VERİLERİMİZİ TABULAR DATA OLARAK GOREBİLMEK İCİN. İLK 5 SATIR GOSTERİLİYOR . \n",
    "---\n",
    "\"\"\"\n",
    "df.show(5)\n"
   ]
  },
  {
   "cell_type": "code",
   "execution_count": 166,
   "metadata": {},
   "outputs": [
    {
     "name": "stdout",
     "output_type": "stream",
     "text": [
      "root\n",
      " |-- longitude: double (nullable = true)\n",
      " |-- latitude: double (nullable = true)\n",
      " |-- housing_median_age: double (nullable = true)\n",
      " |-- total_rooms: double (nullable = true)\n",
      " |-- total_bedrooms: double (nullable = true)\n",
      " |-- population: double (nullable = true)\n",
      " |-- households: double (nullable = true)\n",
      " |-- median_income: double (nullable = true)\n",
      " |-- median_house_value: double (nullable = true)\n",
      " |-- ocean_proximity: string (nullable = true)\n",
      "\n"
     ]
    }
   ],
   "source": [
    "\"\"\"  \n",
    "BURADA .DTYPES , COLUMNS GİBİ OZELLİKLERİ DE KULLANABİLİRDİK FAKAT KONUMUZ SPARK OLDUGU İCİN \n",
    "HEP SPARK BU KONULARDA NASIL OZELLESTİRMELER YAPMIS ONU ARASTIRIP BUNU GOSTERMEK İSTİYORUM.\n",
    "O YUZDEN PREPROCESSİNG ONCESİ PRİNTSCHEMA İLE BİR VERİ CSV KEŞFİNE DEVAM EDELİM . \n",
    "\"\"\"\n",
    "df.printSchema()"
   ]
  },
  {
   "cell_type": "code",
   "execution_count": 167,
   "metadata": {},
   "outputs": [
    {
     "name": "stdout",
     "output_type": "stream",
     "text": [
      "TOPLAM COLUMN SAYISI ==> 10\n",
      "TOPLAM KAYIT SAYISI ==> 20640\n",
      "+-------+-------------------+-----------------+------------------+------------------+------------------+------------------+-----------------+------------------+------------------+---------------+\n",
      "|summary|          longitude|         latitude|housing_median_age|       total_rooms|    total_bedrooms|        population|       households|     median_income|median_house_value|ocean_proximity|\n",
      "+-------+-------------------+-----------------+------------------+------------------+------------------+------------------+-----------------+------------------+------------------+---------------+\n",
      "|  count|              20640|            20640|             20640|             20640|             20433|             20640|            20640|             20640|             20640|          20640|\n",
      "|   mean|-119.56970445736148| 35.6318614341087|28.639486434108527|2635.7630813953488| 537.8705525375618|1425.4767441860465|499.5396802325581|3.8706710029070246|206855.81690891474|           NULL|\n",
      "| stddev|  2.003531723502584|2.135952397457101| 12.58555761211163|2181.6152515827944|421.38507007403115|  1132.46212176534|382.3297528316098| 1.899821717945263|115395.61587441359|           NULL|\n",
      "|    min|            -124.35|            32.54|               1.0|               2.0|               1.0|               3.0|              1.0|            0.4999|           14999.0|      <1H OCEAN|\n",
      "|    max|            -114.31|            41.95|              52.0|           39320.0|            6445.0|           35682.0|           6082.0|           15.0001|          500001.0|     NEAR OCEAN|\n",
      "+-------+-------------------+-----------------+------------------+------------------+------------------+------------------+-----------------+------------------+------------------+---------------+\n",
      "\n"
     ]
    }
   ],
   "source": [
    "print(\"TOPLAM COLUMN SAYISI ==>\" , len(df.columns))\n",
    "print(\"TOPLAM KAYIT SAYISI ==>\" , df.count())\n",
    "df.describe().show()"
   ]
  },
  {
   "cell_type": "code",
   "execution_count": 168,
   "metadata": {},
   "outputs": [
    {
     "data": {
      "text/plain": [
       "20640"
      ]
     },
     "execution_count": 168,
     "metadata": {},
     "output_type": "execute_result"
    }
   ],
   "source": [
    "# ARTIK VERİ İSLEMEYE BASLAYABİLİRİZ . ONCE DUPLİCATE DEGERLERİ SİLEREK BASLAYALIM  : \n",
    "df.count()\n",
    "df=df.dropDuplicates()\n",
    "df.count()"
   ]
  },
  {
   "cell_type": "code",
   "execution_count": 169,
   "metadata": {},
   "outputs": [
    {
     "name": "stdout",
     "output_type": "stream",
     "text": [
      "+---------+--------+------------------+-----------+--------------+----------+----------+-------------+--------+---------------+\n",
      "|longitude|latitude|housing_median_age|total_rooms|total_bedrooms|population|households|median_income|   label|ocean_proximity|\n",
      "+---------+--------+------------------+-----------+--------------+----------+----------+-------------+--------+---------------+\n",
      "|  -122.28|   37.81|              52.0|      340.0|          97.0|     200.0|      87.0|       1.5208|112500.0|       NEAR BAY|\n",
      "|  -122.13|   37.67|              40.0|     1748.0|         318.0|     914.0|     317.0|       3.8676|184000.0|       NEAR BAY|\n",
      "|  -122.07|   37.67|              27.0|     3239.0|         671.0|    1469.0|     616.0|       3.2465|230600.0|       NEAR BAY|\n",
      "+---------+--------+------------------+-----------+--------------+----------+----------+-------------+--------+---------------+\n",
      "only showing top 3 rows\n",
      "\n",
      "None\n"
     ]
    },
    {
     "data": {
      "text/plain": [
       "[('longitude', -0.045966615117978296),\n",
       " ('latitude', -0.1441602768746604),\n",
       " ('housing_median_age', 0.10562341249320963),\n",
       " ('total_rooms', 0.13415311380656358),\n",
       " ('total_bedrooms', 0.049148219599425405),\n",
       " ('population', -0.024649678888894945),\n",
       " ('households', 0.06584265057005599),\n",
       " ('median_income', 0.6880752079585519)]"
      ]
     },
     "execution_count": 169,
     "metadata": {},
     "output_type": "execute_result"
    }
   ],
   "source": [
    "#BURADA TAHMİN EDİLMEK İSTENEN DEGER(label) MEDIAN_HOUSE_VALUE OLDUGU İCİN YENIDEN ADLANIRALIM:\n",
    "df=df.withColumnRenamed('median_house_value','label')\n",
    "print(df.show(3))\n",
    "#LINEAR REGRESSION YAPACAGIMIZ ICIN BIR KORELASYON ANALIZI YAPALIM : \n",
    "from pyspark.sql.functions import corr\n",
    "\n",
    "correlations = []\n",
    "\n",
    "for col in df.columns:\n",
    "    #OCEAN_PROX. STRING OLDUGU İCİN O VE label HARİC DİGER SUTUNLARIN KORELASYONLARINI ALALIM\n",
    "    if col != 'label' and col != \"ocean_proximity\":  # 'label' sütunu hariç\n",
    "        correlation = df.stat.corr(col, 'label')\n",
    "        correlations.append((col, correlation))\n",
    "\n",
    "correlations\n",
    "#EN GUCLU KORELASYON MEDİAN_İNCOME , TOTAL_ROOMS ,  HOUSİNG_MEDİAN_AGE OLARAK GİDİYOR. "
   ]
  },
  {
   "cell_type": "code",
   "execution_count": 170,
   "metadata": {},
   "outputs": [
    {
     "name": "stdout",
     "output_type": "stream",
     "text": [
      "TOPLAM NULL DEGERLER ------ \n",
      " longitude               0\n",
      "latitude                0\n",
      "housing_median_age      0\n",
      "total_rooms             0\n",
      "total_bedrooms        207\n",
      "population              0\n",
      "households              0\n",
      "median_income           0\n",
      "label                   0\n",
      "ocean_proximity         0\n",
      "dtype: int64\n"
     ]
    }
   ],
   "source": [
    "#PYSPARK DA PANDAS OZELLİKLERİNİ KULLANABİLMEK İCİN PYSPARK DAKİ TOPANDAS OZELLİGİNİ KULLANALIM. \n",
    "import pandas as pd \n",
    "pandas_df = df.toPandas()\n",
    "print(\"TOPLAM NULL DEGERLER ------ \\n\" , pandas_df.isnull().sum())\n",
    "\n",
    "#ORTALAMA DEGER ILE DOLDURACAGIZ . FONKSİYONUMUZU EKLEYELİM\n",
    "from pyspark.sql.functions import mean\n",
    "\n",
    "# TOTAL_BEDROOMS ORTALAMA DEGERINI BUL\n",
    "mean_value = df.select(mean(df[\"total_bedrooms\"])).collect()[0][0]\n",
    "\n",
    "# ORTALAMA DEGERLE DOLDUR\n",
    "df_filled = df.fillna(mean_value, subset=[\"total_bedrooms\"])\n",
    "\n",
    "\n"
   ]
  },
  {
   "cell_type": "code",
   "execution_count": 171,
   "metadata": {},
   "outputs": [
    {
     "name": "stdout",
     "output_type": "stream",
     "text": [
      "+---------+--------+------------------+-----------+--------------+----------+----------+-------------+--------+---------------+\n",
      "|longitude|latitude|housing_median_age|total_rooms|total_bedrooms|population|households|median_income|   label|ocean_proximity|\n",
      "+---------+--------+------------------+-----------+--------------+----------+----------+-------------+--------+---------------+\n",
      "|  -122.28|   37.81|              52.0|      340.0|          97.0|     200.0|      87.0|       1.5208|112500.0|       NEAR BAY|\n",
      "|  -122.13|   37.67|              40.0|     1748.0|         318.0|     914.0|     317.0|       3.8676|184000.0|       NEAR BAY|\n",
      "|  -122.07|   37.67|              27.0|     3239.0|         671.0|    1469.0|     616.0|       3.2465|230600.0|       NEAR BAY|\n",
      "|  -122.13|   37.66|              19.0|      862.0|         167.0|     407.0|     183.0|       4.3456|163000.0|       NEAR BAY|\n",
      "|  -121.85|   39.73|              52.0|      444.0|          80.0|    1107.0|      98.0|       3.4191|137500.0|         INLAND|\n",
      "+---------+--------+------------------+-----------+--------------+----------+----------+-------------+--------+---------------+\n",
      "only showing top 5 rows\n",
      "\n",
      "None\n",
      "+---------+--------+------------------+-----------+--------------+----------+----------+-------------+--------+-----------------------+\n",
      "|longitude|latitude|housing_median_age|total_rooms|total_bedrooms|population|households|median_income|   label|ocean_proximity_encoded|\n",
      "+---------+--------+------------------+-----------+--------------+----------+----------+-------------+--------+-----------------------+\n",
      "|  -122.28|   37.81|              52.0|      340.0|          97.0|     200.0|      87.0|       1.5208|112500.0|          (4,[3],[1.0])|\n",
      "|  -122.13|   37.67|              40.0|     1748.0|         318.0|     914.0|     317.0|       3.8676|184000.0|          (4,[3],[1.0])|\n",
      "|  -122.07|   37.67|              27.0|     3239.0|         671.0|    1469.0|     616.0|       3.2465|230600.0|          (4,[3],[1.0])|\n",
      "|  -122.13|   37.66|              19.0|      862.0|         167.0|     407.0|     183.0|       4.3456|163000.0|          (4,[3],[1.0])|\n",
      "|  -121.85|   39.73|              52.0|      444.0|          80.0|    1107.0|      98.0|       3.4191|137500.0|          (4,[1],[1.0])|\n",
      "|  -121.85|    38.0|              26.0|     3364.0|         570.0|    1806.0|     566.0|       4.2647|133400.0|          (4,[1],[1.0])|\n",
      "|  -121.87|   37.99|              15.0|     2203.0|         312.0|    1051.0|     311.0|       4.9783|163900.0|          (4,[1],[1.0])|\n",
      "|  -119.98|   38.93|              25.0|     1262.0|         293.0|     534.0|     226.0|       2.6607| 90400.0|          (4,[1],[1.0])|\n",
      "|  -119.78|   36.76|              47.0|     1425.0|         323.0|     949.0|     325.0|       1.7344| 51300.0|          (4,[1],[1.0])|\n",
      "|   -119.6|   36.57|              42.0|     2311.0|         439.0|    1347.0|     436.0|       2.5556| 69700.0|          (4,[1],[1.0])|\n",
      "|  -124.05|   40.85|              31.0|     2414.0|         428.0|    1005.0|     401.0|       3.5156|143000.0|          (4,[2],[1.0])|\n",
      "|  -119.77|    36.3|              24.0|     2202.0|         471.0|    1052.0|     439.0|       2.1038| 62000.0|          (4,[1],[1.0])|\n",
      "|  -122.68|   38.76|              29.0|      994.0|         226.0|     302.0|     117.0|       2.3125| 67900.0|          (4,[1],[1.0])|\n",
      "|  -118.36|   34.16|              45.0|     1755.0|         335.0|     822.0|     342.0|       5.1423|322900.0|          (4,[0],[1.0])|\n",
      "|  -118.35|   34.09|              47.0|     1800.0|         546.0|     921.0|     478.0|       2.8021|280600.0|          (4,[0],[1.0])|\n",
      "|  -118.19|   34.08|              35.0|     1554.0|         381.0|    1487.0|     374.0|       1.9038|139500.0|          (4,[0],[1.0])|\n",
      "|  -118.33|   34.03|              46.0|     2312.0|         625.0|    1552.0|     603.0|       1.6429|125000.0|          (4,[0],[1.0])|\n",
      "|  -118.31|   34.02|              46.0|     1976.0|         469.0|    1409.0|     431.0|       2.2981|112100.0|          (4,[0],[1.0])|\n",
      "|  -118.25|   34.01|              45.0|      782.0|         270.0|    1030.0|     235.0|       1.0898| 93400.0|          (4,[0],[1.0])|\n",
      "|  -118.28|   33.97|              31.0|     2017.0|         566.0|    2063.0|     521.0|       1.9219|107000.0|          (4,[0],[1.0])|\n",
      "+---------+--------+------------------+-----------+--------------+----------+----------+-------------+--------+-----------------------+\n",
      "only showing top 20 rows\n",
      "\n"
     ]
    }
   ],
   "source": [
    "# BIR TANE KATEGORİK DEGİSKENIMIZ VAR(OCEAN_PROXİMİTY). BU ATTRİBUTE ORDİNAL OLMADIGI İCİN\n",
    "# ONE HOT ENCODING YAPALIM :  \n",
    "print(df_filled.show(5))\n",
    "from pyspark.ml.feature import OneHotEncoder , StandardScaler , StringIndexer , VectorAssembler\n",
    "from pyspark.ml import Pipeline\n",
    "# Pyspark OneHotEncoder STRING DEGERLERLE ISLEM YAPAMADIGI ICIN ONCE INDEXER ILE SAYISAL \n",
    "#DEGERLERE DONUSTURUP DAHA SONRA ONE HOT ENCODİNG YAPACAGIZ\n",
    "indexer = StringIndexer(inputCol=\"ocean_proximity\", outputCol=\"ocean_proximity_index\")\n",
    "encoder = OneHotEncoder(inputCol=\"ocean_proximity_index\", outputCol=\"ocean_proximity_encoded\")\n",
    "pipeline = Pipeline(stages=[indexer, encoder])\n",
    "\n",
    "# Pipeline'ı veri üzerinde uygulama\n",
    "model = pipeline.fit(df_filled)\n",
    "encoded_df = model.transform(df_filled)\n",
    "encoded_df = encoded_df.drop(\"ocean_proximity\" , \"ocean_proximity_index\")\n",
    "# Sonuçları gösterme\n",
    "encoded_df.show()\n",
    "\n"
   ]
  },
  {
   "cell_type": "code",
   "execution_count": 179,
   "metadata": {},
   "outputs": [
    {
     "name": "stdout",
     "output_type": "stream",
     "text": [
      "+---------+--------+------------------+-----------+--------------+----------+----------+-------------+--------+-----------------------+--------------------+--------------------+------------------+\n",
      "|longitude|latitude|housing_median_age|total_rooms|total_bedrooms|population|households|median_income|   label|ocean_proximity_encoded|        out_features|            features|        prediction|\n",
      "+---------+--------+------------------+-----------+--------------+----------+----------+-------------+--------+-----------------------+--------------------+--------------------+------------------+\n",
      "|  -124.25|   40.28|              32.0|     1430.0|         419.0|     434.0|     187.0|       1.9417| 76100.0|          (4,[2],[1.0])|[-124.25,40.28,32...|[-62.143428108188...|180811.05210579338|\n",
      "|  -124.23|   40.54|              52.0|     2694.0|         453.0|    1152.0|     435.0|       3.0806|106700.0|          (4,[2],[1.0])|[-124.23,40.54,52...|[-62.133425141893...|229234.81066804624|\n",
      "|  -124.19|   40.78|              37.0|     1371.0|         319.0|     640.0|     260.0|       1.8242| 70000.0|          (4,[2],[1.0])|[-124.19,40.78,37...|[-62.113419209303...|163644.41833672754|\n",
      "|  -124.19|   41.78|              15.0|     3140.0|         714.0|    1645.0|     640.0|       1.6654| 74600.0|          (4,[2],[1.0])|[-124.19,41.78,15...|[-62.113419209303...|130831.35735027783|\n",
      "|  -124.18|   40.78|              37.0|     1453.0|         293.0|     867.0|     310.0|       2.5536| 70200.0|          (4,[2],[1.0])|[-124.18,40.78,37...|[-62.108417726155...|182184.63149045862|\n",
      "+---------+--------+------------------+-----------+--------------+----------+----------+-------------+--------+-----------------------+--------------------+--------------------+------------------+\n",
      "only showing top 5 rows\n",
      "\n"
     ]
    }
   ],
   "source": [
    "train_df, test_df = encoded_df.randomSplit([.75, .25])\n",
    "features = [\"longitude\" ,\"latitude\" , \"housing_median_age\", \"total_rooms\" ,\"total_bedrooms\", \"population\" , \"households\" ,  \"median_income\",  \"ocean_proximity_encoded\" ]\n",
    "from pyspark.ml.regression import LinearRegression\n",
    "\n",
    "stage_1 = VectorAssembler(inputCols=features, outputCol=\"out_features\")\n",
    "\n",
    "stage_2 = StandardScaler(inputCol=\"out_features\", outputCol=\"features\")\n",
    "\n",
    "stage_3 = LinearRegression(featuresCol = 'features', labelCol='label', maxIter=10, \n",
    "                      regParam=0.8, elasticNetParam=0.1) # It is always a )\n",
    "\n",
    "stages = [stage_1, stage_2, stage_3]\n",
    "\n",
    "pipeline = Pipeline(stages=stages)\n",
    "model = pipeline.fit(train_df)\n",
    "pred_result= model.transform(test_df)\n",
    "pred_result.show(5)\n"
   ]
  },
  {
   "cell_type": "markdown",
   "metadata": {},
   "source": [
    "ARTIK TEST DATAMIZDA PREDİCTİON SÜTUNU MEVCUT, DOLAYISIYLA EVALUATE EDEBILIRIZ\n",
    "LINEAR REGRESYON MODELİ  R2 VE RMSE ' Yİ KULLANIYOR"
   ]
  },
  {
   "cell_type": "code",
   "execution_count": 181,
   "metadata": {},
   "outputs": [
    {
     "name": "stdout",
     "output_type": "stream",
     "text": [
      "70551.43695331346\n"
     ]
    }
   ],
   "source": [
    "from pyspark.ml.evaluation import RegressionEvaluator\n",
    "regeval = RegressionEvaluator(labelCol=\"label\",\n",
    "predictionCol=\"prediction\", metricName=\"rmse\")\n",
    "acc = regeval.evaluate(pred_result, {regeval.metricName: \"r2\"})\n",
    "print(acc)\n",
    "rmse = regeval.evaluate(pred_result)\n",
    "print(rmse)"
   ]
  },
  {
   "cell_type": "code",
   "execution_count": null,
   "metadata": {},
   "outputs": [],
   "source": []
  }
 ],
 "metadata": {
  "kernelspec": {
   "display_name": "Python 3",
   "language": "python",
   "name": "python3"
  },
  "language_info": {
   "codemirror_mode": {
    "name": "ipython",
    "version": 3
   },
   "file_extension": ".py",
   "mimetype": "text/x-python",
   "name": "python",
   "nbconvert_exporter": "python",
   "pygments_lexer": "ipython3",
   "version": "3.12.1"
  }
 },
 "nbformat": 4,
 "nbformat_minor": 2
}
